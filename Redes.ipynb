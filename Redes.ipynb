{
  "nbformat": 4,
  "nbformat_minor": 0,
  "metadata": {
    "colab": {
      "provenance": []
    },
    "kernelspec": {
      "name": "python3",
      "display_name": "Python 3"
    },
    "language_info": {
      "name": "python"
    }
  },
  "cells": [
    {
      "cell_type": "markdown",
      "source": [
        "# **REDES NEURONALES**"
      ],
      "metadata": {
        "id": "1KPcvVA1ebSd"
      }
    },
    {
      "cell_type": "markdown",
      "source": [
        "Exportar librerias"
      ],
      "metadata": {
        "id": "5mLec9Dr3P0v"
      }
    },
    {
      "cell_type": "code",
      "execution_count": 1,
      "metadata": {
        "id": "sR2MjyAi28vn"
      },
      "outputs": [],
      "source": [
        "import numpy as np\n",
        "import pandas as pd\n",
        "import tensorflow as tf\n",
        "from tensorflow.keras.models import Sequential\n",
        "from tensorflow.keras.layers import Dense\n",
        "from sklearn.model_selection import train_test_split\n",
        "from sklearn.preprocessing import OneHotEncoder, StandardScaler, LabelEncoder"
      ]
    },
    {
      "cell_type": "markdown",
      "source": [
        "Cargar datos"
      ],
      "metadata": {
        "id": "y6i8UDZK3gSH"
      }
    },
    {
      "cell_type": "code",
      "source": [
        "data = pd.read_excel('/content/concursos1.xlsx')"
      ],
      "metadata": {
        "id": "T4Gcqf5Y3u0a"
      },
      "execution_count": 3,
      "outputs": []
    },
    {
      "cell_type": "markdown",
      "source": [
        "Codificar las variables para poder ser uilizadas por el modelo"
      ],
      "metadata": {
        "id": "XERTxofWIfsC"
      }
    },
    {
      "cell_type": "code",
      "source": [
        "# Seleccionando las columnas para la codificación one-hot\n",
        "categorical_features = ['tipodeentidadpadre', 'tipoentidad', 'modalidad', 'categorías']\n",
        "\n",
        "# Inicializando el codificador\n",
        "categorical_encoder = OneHotEncoder(sparse_output=False)\n",
        "\n",
        "# Aplicar el OneHotEncoder a las características categóricas\n",
        "X_categorical_encoded = categorical_encoder.fit_transform(data[categorical_features])\n",
        "feature_names = categorical_encoder.get_feature_names_out(categorical_features)\n",
        "X_categorical_encoded = pd.DataFrame(X_categorical_encoded, columns=feature_names)\n"
      ],
      "metadata": {
        "id": "y1Z2-x7BIkRH"
      },
      "execution_count": 4,
      "outputs": []
    },
    {
      "cell_type": "code",
      "source": [
        "# Normalizar las características codificadas\n",
        "scaler = StandardScaler()\n",
        "X_normalized = scaler.fit_transform(X_categorical_encoded)\n",
        "X_normalized = pd.DataFrame(X_normalized, columns=X_categorical_encoded.columns)"
      ],
      "metadata": {
        "id": "b7MI1wZcLnJc"
      },
      "execution_count": 5,
      "outputs": []
    },
    {
      "cell_type": "code",
      "source": [
        "# Codificar la variable objetivo\n",
        "label_encoder = LabelEncoder()\n",
        "y = label_encoder.fit_transform(data['entidadcompradora'])"
      ],
      "metadata": {
        "id": "ZicrmqiuO-rM"
      },
      "execution_count": 6,
      "outputs": []
    },
    {
      "cell_type": "markdown",
      "source": [
        "Definición de set de entreno y prueba"
      ],
      "metadata": {
        "id": "yE0Yu4n1DlMw"
      }
    },
    {
      "cell_type": "code",
      "source": [
        "X_train, X_test, y_train, y_test = train_test_split(X_normalized, y, test_size=0.2, random_state=42)"
      ],
      "metadata": {
        "id": "yPAHtsEHDrqE"
      },
      "execution_count": 7,
      "outputs": []
    },
    {
      "cell_type": "markdown",
      "source": [
        "Diseño de la red neuronal"
      ],
      "metadata": {
        "id": "LEzgI1OTJyuu"
      }
    },
    {
      "cell_type": "code",
      "source": [
        "model = Sequential([\n",
        "    Dense(64, input_dim=X_train.shape[1], activation='relu'),\n",
        "    Dense(32, activation='relu'),\n",
        "    Dense(np.unique(y_train).size, activation='softmax')  # Asegúrate de que el tamaño es correcto\n",
        "])"
      ],
      "metadata": {
        "colab": {
          "base_uri": "https://localhost:8080/"
        },
        "id": "Xz8WnCXXJ2nV",
        "outputId": "b7742abf-ab64-4ed7-de4e-9135a688c223"
      },
      "execution_count": 8,
      "outputs": [
        {
          "output_type": "stream",
          "name": "stderr",
          "text": [
            "/usr/local/lib/python3.10/dist-packages/keras/src/layers/core/dense.py:87: UserWarning: Do not pass an `input_shape`/`input_dim` argument to a layer. When using Sequential models, prefer using an `Input(shape)` object as the first layer in the model instead.\n",
            "  super().__init__(activity_regularizer=activity_regularizer, **kwargs)\n"
          ]
        }
      ]
    },
    {
      "cell_type": "markdown",
      "source": [
        "Compilación de la red"
      ],
      "metadata": {
        "id": "b0v0ylpwKCsq"
      }
    },
    {
      "cell_type": "code",
      "source": [
        "model.compile(optimizer='adam', loss='sparse_categorical_crossentropy', metrics=['accuracy'])"
      ],
      "metadata": {
        "id": "BqVZxZOQTbZp"
      },
      "execution_count": 9,
      "outputs": []
    },
    {
      "cell_type": "markdown",
      "source": [
        "Entreno y testeo"
      ],
      "metadata": {
        "id": "FXFaFM8ATcLx"
      }
    },
    {
      "cell_type": "code",
      "source": [
        "model.fit(X_train, y_train, epochs=10, batch_size=50, validation_data=(X_test, y_test))"
      ],
      "metadata": {
        "colab": {
          "base_uri": "https://localhost:8080/"
        },
        "id": "deeJ8G-AKDcm",
        "outputId": "4456eae1-b960-4042-9adc-dbd3a41f8ce6"
      },
      "execution_count": 10,
      "outputs": [
        {
          "output_type": "stream",
          "name": "stdout",
          "text": [
            "Epoch 1/10\n",
            "\u001b[1m11430/11430\u001b[0m \u001b[32m━━━━━━━━━━━━━━━━━━━━\u001b[0m\u001b[37m\u001b[0m \u001b[1m26s\u001b[0m 2ms/step - accuracy: 0.9982 - loss: 0.0405 - val_accuracy: 0.9992 - val_loss: 0.0046\n",
            "Epoch 2/10\n",
            "\u001b[1m11430/11430\u001b[0m \u001b[32m━━━━━━━━━━━━━━━━━━━━\u001b[0m\u001b[37m\u001b[0m \u001b[1m41s\u001b[0m 2ms/step - accuracy: 0.9993 - loss: 0.0042 - val_accuracy: 0.9992 - val_loss: 0.0047\n",
            "Epoch 3/10\n",
            "\u001b[1m11430/11430\u001b[0m \u001b[32m━━━━━━━━━━━━━━━━━━━━\u001b[0m\u001b[37m\u001b[0m \u001b[1m38s\u001b[0m 2ms/step - accuracy: 0.9994 - loss: 0.0040 - val_accuracy: 0.9992 - val_loss: 0.0046\n",
            "Epoch 4/10\n",
            "\u001b[1m11430/11430\u001b[0m \u001b[32m━━━━━━━━━━━━━━━━━━━━\u001b[0m\u001b[37m\u001b[0m \u001b[1m23s\u001b[0m 2ms/step - accuracy: 0.9993 - loss: 0.0047 - val_accuracy: 0.9992 - val_loss: 0.0049\n",
            "Epoch 5/10\n",
            "\u001b[1m11430/11430\u001b[0m \u001b[32m━━━━━━━━━━━━━━━━━━━━\u001b[0m\u001b[37m\u001b[0m \u001b[1m24s\u001b[0m 2ms/step - accuracy: 0.9993 - loss: 0.0043 - val_accuracy: 0.9992 - val_loss: 0.0049\n",
            "Epoch 6/10\n",
            "\u001b[1m11430/11430\u001b[0m \u001b[32m━━━━━━━━━━━━━━━━━━━━\u001b[0m\u001b[37m\u001b[0m \u001b[1m25s\u001b[0m 2ms/step - accuracy: 0.9993 - loss: 0.0056 - val_accuracy: 0.9992 - val_loss: 0.0045\n",
            "Epoch 7/10\n",
            "\u001b[1m11430/11430\u001b[0m \u001b[32m━━━━━━━━━━━━━━━━━━━━\u001b[0m\u001b[37m\u001b[0m \u001b[1m38s\u001b[0m 2ms/step - accuracy: 0.9994 - loss: 0.0045 - val_accuracy: 0.9992 - val_loss: 0.0047\n",
            "Epoch 8/10\n",
            "\u001b[1m11430/11430\u001b[0m \u001b[32m━━━━━━━━━━━━━━━━━━━━\u001b[0m\u001b[37m\u001b[0m \u001b[1m43s\u001b[0m 2ms/step - accuracy: 0.9993 - loss: 0.0043 - val_accuracy: 0.9992 - val_loss: 0.0046\n",
            "Epoch 9/10\n",
            "\u001b[1m11430/11430\u001b[0m \u001b[32m━━━━━━━━━━━━━━━━━━━━\u001b[0m\u001b[37m\u001b[0m \u001b[1m42s\u001b[0m 2ms/step - accuracy: 0.9993 - loss: 0.0041 - val_accuracy: 0.9992 - val_loss: 0.0046\n",
            "Epoch 10/10\n",
            "\u001b[1m11430/11430\u001b[0m \u001b[32m━━━━━━━━━━━━━━━━━━━━\u001b[0m\u001b[37m\u001b[0m \u001b[1m24s\u001b[0m 2ms/step - accuracy: 0.9993 - loss: 0.0050 - val_accuracy: 0.9992 - val_loss: 0.0046\n"
          ]
        },
        {
          "output_type": "execute_result",
          "data": {
            "text/plain": [
              "<keras.src.callbacks.history.History at 0x7e6e280fe410>"
            ]
          },
          "metadata": {},
          "execution_count": 10
        }
      ]
    },
    {
      "cell_type": "markdown",
      "source": [
        "Presición del modelo"
      ],
      "metadata": {
        "id": "nRpKxZuYUIr0"
      }
    },
    {
      "cell_type": "code",
      "source": [
        "loss, acc = model.evaluate(X_test, y_test)\n",
        "print(acc*100)"
      ],
      "metadata": {
        "colab": {
          "base_uri": "https://localhost:8080/"
        },
        "id": "n6I1tFZCUJoA",
        "outputId": "d42745c5-191d-44f5-a26d-ea4d0c6a4f5a"
      },
      "execution_count": 11,
      "outputs": [
        {
          "output_type": "stream",
          "name": "stdout",
          "text": [
            "\u001b[1m4465/4465\u001b[0m \u001b[32m━━━━━━━━━━━━━━━━━━━━\u001b[0m\u001b[37m\u001b[0m \u001b[1m6s\u001b[0m 1ms/step - accuracy: 0.9992 - loss: 0.0049\n",
            "99.91950392723083\n"
          ]
        }
      ]
    },
    {
      "cell_type": "markdown",
      "source": [
        "Realizar predicciones"
      ],
      "metadata": {
        "id": "uwacWATbUQap"
      }
    },
    {
      "cell_type": "code",
      "source": [
        "entidad_compradora = pd.DataFrame({\n",
        "    'tipodeentidadpadre': ['Sector Público'],\n",
        "    'tipoentidad': ['Administración Central'],\n",
        "    'modalidad': ['Compra Directa con Oferta Electrónica (Art. 43 LCE Inciso b)'],\n",
        "    'categorías': ['Salud e insumos hospitalarios']\n",
        "})"
      ],
      "metadata": {
        "id": "i39ehpijUSnZ"
      },
      "execution_count": 12,
      "outputs": []
    },
    {
      "cell_type": "markdown",
      "source": [
        "Transformar el nuevo dato a catgorias"
      ],
      "metadata": {
        "id": "YHMXjXSTVcPB"
      }
    },
    {
      "cell_type": "code",
      "source": [
        "entidad_compradora_encoded = categorical_encoder.transform(entidad_compradora)\n",
        "entidad_compradora_encoded = pd.DataFrame(entidad_compradora_encoded, columns=categorical_encoder.get_feature_names_out())\n",
        "\n"
      ],
      "metadata": {
        "id": "1GrgVT-EVi8Y"
      },
      "execution_count": 13,
      "outputs": []
    },
    {
      "cell_type": "markdown",
      "source": [
        "Predicciones"
      ],
      "metadata": {
        "id": "f2GP54A1dw0E"
      }
    },
    {
      "cell_type": "code",
      "source": [
        "predictions = model.predict(entidad_compradora_encoded)\n",
        "predicted_classes = np.argmax(predictions, axis=1)\n",
        "predicted_labels = label_encoder.inverse_transform(predicted_classes)\n",
        "\n",
        "print(\"Categorías predichas:\", predicted_labels)"
      ],
      "metadata": {
        "colab": {
          "base_uri": "https://localhost:8080/"
        },
        "id": "zWjrbSnEdyRl",
        "outputId": "4e80c590-cb9b-47ef-b16f-1240feda1f7c"
      },
      "execution_count": 14,
      "outputs": [
        {
          "output_type": "stream",
          "name": "stdout",
          "text": [
            "\u001b[1m1/1\u001b[0m \u001b[32m━━━━━━━━━━━━━━━━━━━━\u001b[0m\u001b[37m\u001b[0m \u001b[1m0s\u001b[0m 54ms/step\n",
            "Categorías predichas: ['MINISTERIO DE SALUD PÚBLICA']\n"
          ]
        }
      ]
    },
    {
      "cell_type": "markdown",
      "source": [
        "Segunda Predicción"
      ],
      "metadata": {
        "id": "jmQ8Z47RT5Cb"
      }
    },
    {
      "cell_type": "code",
      "source": [
        "entidad_compradora2 = pd.DataFrame({\n",
        "    'tipodeentidadpadre': ['Sector Público'],\n",
        "    'tipoentidad': ['Entidades Descentralizadas, Autónomas y de Seguridad Social'],\n",
        "    'modalidad': ['Compra Directa con Oferta Electrónica (Art. 43 LCE Inciso b)'],\n",
        "    'categorías': ['Salud e insumos hospitalarios']\n",
        "})"
      ],
      "metadata": {
        "id": "WFWitP4lT9P5"
      },
      "execution_count": 15,
      "outputs": []
    },
    {
      "cell_type": "code",
      "source": [
        "entidad_compradora_encoded2 = categorical_encoder.transform(entidad_compradora2)\n",
        "entidad_compradora_encoded2 = pd.DataFrame(entidad_compradora_encoded2, columns=categorical_encoder.get_feature_names_out())"
      ],
      "metadata": {
        "id": "vv52zol0UAFD"
      },
      "execution_count": 16,
      "outputs": []
    },
    {
      "cell_type": "code",
      "source": [
        "predictions = model.predict(entidad_compradora_encoded2)\n",
        "predicted_classes = np.argmax(predictions, axis=1)\n",
        "predicted_labels = label_encoder.inverse_transform(predicted_classes)\n",
        "\n",
        "print(\"Categorías predichas:\", predicted_labels)"
      ],
      "metadata": {
        "colab": {
          "base_uri": "https://localhost:8080/"
        },
        "id": "anf9PEMLUEqg",
        "outputId": "65ecf9b0-6402-4f0f-b050-c5323a054de7"
      },
      "execution_count": 17,
      "outputs": [
        {
          "output_type": "stream",
          "name": "stdout",
          "text": [
            "\u001b[1m1/1\u001b[0m \u001b[32m━━━━━━━━━━━━━━━━━━━━\u001b[0m\u001b[37m\u001b[0m \u001b[1m0s\u001b[0m 20ms/step\n",
            "Categorías predichas: ['INSTITUTO GUATEMALTECO DE SEGURIDAD SOCIAL -IGSS-']\n"
          ]
        }
      ]
    }
  ]
}